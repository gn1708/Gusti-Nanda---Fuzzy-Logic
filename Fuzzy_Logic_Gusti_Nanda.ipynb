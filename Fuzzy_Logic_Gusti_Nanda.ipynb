{
  "nbformat": 4,
  "nbformat_minor": 0,
  "metadata": {
    "colab": {
      "name": "Fuzzy_Logic_Gusti_Nanda.ipynb",
      "provenance": [],
      "collapsed_sections": []
    },
    "kernelspec": {
      "name": "python3",
      "display_name": "Python 3"
    },
    "language_info": {
      "name": "python"
    }
  },
  "cells": [
    {
      "cell_type": "code",
      "execution_count": 1,
      "metadata": {
        "id": "aAh9wEmE7Qvt"
      },
      "outputs": [],
      "source": [
        "def turun(b,a,x):\n",
        "    if(x<=a):\n",
        "        nilai = 1\n",
        "    elif(x>a and x<b):\n",
        "        nilai = (b-x)/(b-a)\n",
        "    elif(x>=b):\n",
        "        nilai = 0\n",
        "\n",
        "    return nilai"
      ]
    },
    {
      "cell_type": "code",
      "source": [
        "def naik(b,a,x):\n",
        "    if(x<=a):\n",
        "        nilai = 0\n",
        "    elif(x>a and x<b):\n",
        "        nilai = (x-a)/(b-a)\n",
        "    elif(x>=b):\n",
        "        nilai = 1\n",
        "\n",
        "    return nilai"
      ],
      "metadata": {
        "id": "dHlaKvL3-qVg"
      },
      "execution_count": 2,
      "outputs": []
    },
    {
      "cell_type": "code",
      "source": [
        "def agregasi_turun(b,a,alfa):\n",
        "    nilai = b - (alfa*(b-a))\n",
        "    return nilai"
      ],
      "metadata": {
        "id": "VvXEtLuU-yPm"
      },
      "execution_count": 3,
      "outputs": []
    },
    {
      "cell_type": "code",
      "source": [
        "def agregasi_naik(b,a,alfa):\n",
        "    nilai = alfa*(b-a) + a\n",
        "    return nilai"
      ],
      "metadata": {
        "id": "aeylCnKM-4mq"
      },
      "execution_count": 4,
      "outputs": []
    },
    {
      "cell_type": "code",
      "source": [
        "var = int(input(\"Jumlah variabel: \"))\n",
        "\n",
        "nama_var = []\n",
        "for i in range(var):\n",
        "    nama = input(\"Sebutkan nama variabel: \")\n",
        "    nama_var.append(nama)"
      ],
      "metadata": {
        "colab": {
          "base_uri": "https://localhost:8080/"
        },
        "id": "0qg5PPew-7-f",
        "outputId": "2da4eed8-ef4a-45af-92d6-f0d1787ce33e"
      },
      "execution_count": 5,
      "outputs": [
        {
          "name": "stdout",
          "output_type": "stream",
          "text": [
            "Jumlah variabel: 3\n",
            "Sebutkan nama variabel: permintaan\n",
            "Sebutkan nama variabel: persediaan\n",
            "Sebutkan nama variabel: produksi\n"
          ]
        }
      ]
    },
    {
      "cell_type": "code",
      "source": [
        "variabel = dict()\n",
        "for i in nama_var:\n",
        "    print(i)\n",
        "    up = int(input(\"naik : \"))\n",
        "    down = int(input(\"turun : \"))\n",
        "    variabel.update({i+\"_naik\":up})\n",
        "    variabel.update({i+\"_turun\":down})\n",
        "    \n",
        "print(variabel)"
      ],
      "metadata": {
        "colab": {
          "base_uri": "https://localhost:8080/"
        },
        "id": "Fm7OlJ5Q--md",
        "outputId": "7bec7236-e84a-4806-cfd4-984098800b10"
      },
      "execution_count": 6,
      "outputs": [
        {
          "output_type": "stream",
          "name": "stdout",
          "text": [
            "permintaan\n",
            "naik : 5000\n",
            "turun : 1000\n",
            "persediaan\n",
            "naik : 600\n",
            "turun : 100\n",
            "produksi\n",
            "naik : 7000\n",
            "turun : 2000\n",
            "{'permintaan_naik': 5000, 'permintaan_turun': 1000, 'persediaan_naik': 600, 'persediaan_turun': 100, 'produksi_naik': 7000, 'produksi_turun': 2000}\n"
          ]
        }
      ]
    },
    {
      "cell_type": "code",
      "source": [
        "soal = dict()\n",
        "\n",
        "jml = int(input(\"Jumlah variabel yang diketahui : \"))\n",
        "\n",
        "for i in range(jml):\n",
        "    ver = input(\"Nama variabel : \")\n",
        "    val = int(input(\"Nilai : \"))   \n",
        "    soal.update({ver:val})\n",
        "    \n",
        "print(soal)\n",
        "\n",
        "dit = input(\"Variabel yang ditanyakan : \")"
      ],
      "metadata": {
        "colab": {
          "base_uri": "https://localhost:8080/"
        },
        "id": "LBkdcFgW_B_2",
        "outputId": "97ef6ed1-dfd6-4b1a-e424-f4785443070d"
      },
      "execution_count": 7,
      "outputs": [
        {
          "name": "stdout",
          "output_type": "stream",
          "text": [
            "Jumlah variabel yang diketahui : 2\n",
            "Nama variabel : permintaan\n",
            "Nilai : 4000\n",
            "Nama variabel : persediaan\n",
            "Nilai : 300\n",
            "{'permintaan': 4000, 'persediaan': 300}\n",
            "Variabel yang ditanyakan : produksi\n"
          ]
        }
      ]
    },
    {
      "cell_type": "code",
      "source": [
        "nk = dict()\n",
        "for i in soal:\n",
        "    up = naik(variabel[i+\"_naik\"],variabel[i+\"_turun\"],soal[i])\n",
        "    down = turun(variabel[i+\"_naik\"],variabel[i+\"_turun\"],soal[i])\n",
        "    nk.update({i+\"_naik\":up})\n",
        "    nk.update({i+\"_turun\":down})\n",
        "\n",
        "print(nk)"
      ],
      "metadata": {
        "colab": {
          "base_uri": "https://localhost:8080/"
        },
        "id": "0dqB1AWj_Ed4",
        "outputId": "e8101eb7-d9a4-44c4-ed52-11927c522989"
      },
      "execution_count": 8,
      "outputs": [
        {
          "output_type": "stream",
          "name": "stdout",
          "text": [
            "{'permintaan_naik': 0.75, 'permintaan_turun': 0.25, 'persediaan_naik': 0.4, 'persediaan_turun': 0.6}\n"
          ]
        }
      ]
    },
    {
      "cell_type": "code",
      "source": [
        "#AGREGASI\n",
        "alfa = []\n",
        "z = []\n",
        "\n",
        "r = int(input(\"Masukkan jumlah peraturan : \"))\n",
        "\n",
        "for i in range(r):\n",
        "    kondisi1 = input(\"Kondisi 1(naik/turun): \")\n",
        "    kondisi2 = input(\"Kondisi 2(naik/turun): \")\n",
        "    kesimpulan = input(\"Kesimpulan(naik/turun): \")\n",
        "    #Fire Strength INTERSEKSI (AND)\n",
        "    a = min(nk[kondisi1],nk[kondisi2]) \n",
        "    alfa.append(a)\n",
        "    if(kesimpulan == \"turun\"):\n",
        "        zz = agregasi_turun(variabel[dit+\"_naik\"],variabel[dit+\"_turun\"],a)\n",
        "    elif(kesimpulan == \"naik\"):\n",
        "        zz = agregasi_naik(variabel[dit+\"_naik\"],variabel[dit+\"_turun\"],a)        \n",
        "    z.append(zz)"
      ],
      "metadata": {
        "colab": {
          "base_uri": "https://localhost:8080/"
        },
        "id": "H82WYYYR_QkW",
        "outputId": "84a12523-f9fe-487d-be7c-dd2736f49f46"
      },
      "execution_count": 9,
      "outputs": [
        {
          "name": "stdout",
          "output_type": "stream",
          "text": [
            "Masukkan jumlah peraturan : 4\n",
            "Kondisi 1(naik/turun): permintaan_turun\n",
            "Kondisi 2(naik/turun): persediaan_naik\n",
            "Kesimpulan(naik/turun): turun\n",
            "Kondisi 1(naik/turun): permintaan_turun\n",
            "Kondisi 2(naik/turun): persediaan_turun\n",
            "Kesimpulan(naik/turun): turun\n",
            "Kondisi 1(naik/turun): permintaan_naik\n",
            "Kondisi 2(naik/turun): persediaan_naik\n",
            "Kesimpulan(naik/turun): naik\n",
            "Kondisi 1(naik/turun): permintaan_naik\n",
            "Kondisi 2(naik/turun): persediaan_turun\n",
            "Kesimpulan(naik/turun): naik\n"
          ]
        }
      ]
    },
    {
      "cell_type": "code",
      "source": [
        "print(alfa)\n",
        "print(z)"
      ],
      "metadata": {
        "colab": {
          "base_uri": "https://localhost:8080/"
        },
        "id": "gkw3TTZE_UDm",
        "outputId": "8418b13f-2127-4c34-d7e0-d77361ec4605"
      },
      "execution_count": 10,
      "outputs": [
        {
          "output_type": "stream",
          "name": "stdout",
          "text": [
            "[0.25, 0.25, 0.4, 0.6]\n",
            "[5750.0, 5750.0, 4000.0, 5000.0]\n"
          ]
        }
      ]
    },
    {
      "cell_type": "code",
      "source": [
        "#DEFUZIFIKASI\n",
        "df = 0\n",
        "\n",
        "for i in range(len(alfa)):\n",
        "    df += alfa[i]*z[i]\n",
        "\n",
        "defuz = int(df/sum(alfa))\n",
        "\n",
        "print(\"Jadi, nilai \",dit,\" adalah \",defuz)"
      ],
      "metadata": {
        "colab": {
          "base_uri": "https://localhost:8080/"
        },
        "id": "c1RggJ1O_XU1",
        "outputId": "724315f2-377b-42b2-9ac9-b536b37e80d5"
      },
      "execution_count": 11,
      "outputs": [
        {
          "output_type": "stream",
          "name": "stdout",
          "text": [
            "Jadi, nilai  produksi  adalah  4983\n"
          ]
        }
      ]
    }
  ]
}